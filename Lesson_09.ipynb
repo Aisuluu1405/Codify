{
 "cells": [
  {
   "cell_type": "code",
   "execution_count": 1,
   "metadata": {},
   "outputs": [],
   "source": [
    "#lambda keyword \n",
    "x = lambda a: a+10\n"
   ]
  },
  {
   "cell_type": "code",
   "execution_count": 2,
   "metadata": {},
   "outputs": [
    {
     "data": {
      "text/plain": [
       "15"
      ]
     },
     "execution_count": 2,
     "metadata": {},
     "output_type": "execute_result"
    }
   ],
   "source": [
    "x(5)"
   ]
  },
  {
   "cell_type": "code",
   "execution_count": 3,
   "metadata": {},
   "outputs": [
    {
     "data": {
      "text/plain": [
       "'Name Codify LAB'"
      ]
     },
     "execution_count": 3,
     "metadata": {},
     "output_type": "execute_result"
    }
   ],
   "source": [
    "full_name = lambda first, second: f'Name {first} {second}'\n",
    "full_name('Codify', 'LAB')"
   ]
  },
  {
   "cell_type": "code",
   "execution_count": 4,
   "metadata": {},
   "outputs": [
    {
     "data": {
      "text/plain": [
       "6"
      ]
     },
     "execution_count": 4,
     "metadata": {},
     "output_type": "execute_result"
    }
   ],
   "source": [
    "(lambda x,y,z: x+y+z)(1, 2, 3)  #во второй скобке передали аргументы"
   ]
  },
  {
   "cell_type": "code",
   "execution_count": 5,
   "metadata": {},
   "outputs": [
    {
     "data": {
      "text/plain": [
       "6"
      ]
     },
     "execution_count": 5,
     "metadata": {},
     "output_type": "execute_result"
    }
   ],
   "source": [
    "def some_func(x,y,z):\n",
    "    return x+y+z\n",
    "\n",
    "result = some_func(1, 2 ,3)\n",
    "result"
   ]
  },
  {
   "cell_type": "code",
   "execution_count": 9,
   "metadata": {},
   "outputs": [
    {
     "data": {
      "text/plain": [
       "array([192, 252, 116, 355, 228, 138, 420, 350, 186, 451, 275, 203, 326,\n",
       "       277, 434, 146, 267, 457, 135, 150])"
      ]
     },
     "execution_count": 9,
     "metadata": {},
     "output_type": "execute_result"
    }
   ],
   "source": [
    "import numpy as np\n",
    "salaries = np.random.randint(low=100, high=500, size=20)          "
   ]
  },
  {
   "cell_type": "code",
   "execution_count": null,
   "metadata": {},
   "outputs": [],
   "source": [
    "list(salaries)"
   ]
  },
  {
   "cell_type": "code",
   "execution_count": 28,
   "metadata": {},
   "outputs": [
    {
     "data": {
      "text/plain": [
       "250"
      ]
     },
     "execution_count": 28,
     "metadata": {},
     "output_type": "execute_result"
    }
   ],
   "source": [
    "updated_salar = []\n",
    "for element in list(salaries):\n",
    "    updated_salaries = element +100\n",
    "    updated_salar.append(updated_salaries)\n",
    "updated_salaries\n",
    "    \n",
    "    "
   ]
  },
  {
   "cell_type": "code",
   "execution_count": 29,
   "metadata": {},
   "outputs": [],
   "source": [
    "#в array append не работает\n",
    "salaries = np.append(salaries, 100)"
   ]
  },
  {
   "cell_type": "code",
   "execution_count": 30,
   "metadata": {},
   "outputs": [
    {
     "data": {
      "text/plain": [
       "100"
      ]
     },
     "execution_count": 30,
     "metadata": {},
     "output_type": "execute_result"
    }
   ],
   "source": [
    "salaries[-1]"
   ]
  },
  {
   "cell_type": "code",
   "execution_count": 40,
   "metadata": {},
   "outputs": [],
   "source": [
    "class Bank():\n",
    "    __balance = 50000    #private data\n",
    "    id = 12345           #public data\n",
    "    _pers_inf = '1994'   #protected data\n",
    "    \n",
    "    def deposit(self, amount):\n",
    "        if amount > 0:\n",
    "            self.__balance += amount\n",
    "            print('Your balance', self.__balance)\n",
    "            \n",
    "    def withdraw(self, amount):\n",
    "        if amount > 0 and amount< self.__balance:\n",
    "            print('Money transfering ...')\n",
    "            self.__balance -= amount\n",
    "            print('Your balance', self.__balance)\n",
    "            \n",
    "        else:\n",
    "            print('Invalid amount')\n",
    "            "
   ]
  },
  {
   "cell_type": "code",
   "execution_count": 41,
   "metadata": {},
   "outputs": [
    {
     "name": "stdout",
     "output_type": "stream",
     "text": [
      "Your balance 60000\n",
      "Money transfering ...\n",
      "Your balance 30000\n"
     ]
    }
   ],
   "source": [
    "Adil = Bank()\n",
    "Adil.deposit(10000)\n",
    "Adil.withdraw(30000)"
   ]
  },
  {
   "cell_type": "code",
   "execution_count": null,
   "metadata": {},
   "outputs": [],
   "source": []
  },
  {
   "cell_type": "code",
   "execution_count": 67,
   "metadata": {},
   "outputs": [],
   "source": [
    "class MyJob():\n",
    "    \n",
    "    def about_me(self, name, age, profession):\n",
    "        self.name = name\n",
    "        self.age = age\n",
    "        self.profession = profession\n",
    "        print(f'Hello, my name is {self.name},  I am {self.age}, I am the {self.profession} at MFK.')\n",
    "        \n",
    "    def my_job(self, duty, functions):\n",
    "        self.duty = duty\n",
    "        self.functions = functions\n",
    "        print(f'My responsibilities include {self.duty} and my functions include {self.functions}.')    \n",
    "        \n",
    "    def retraining(self, name, interest):\n",
    "        self.name = name\n",
    "        self.interest = interest\n",
    "        print(f'Also I retrained for the \"{self.name}\" and now I am learning a new direction for myself- {self.interest}.')\n",
    "    "
   ]
  },
  {
   "cell_type": "code",
   "execution_count": 68,
   "metadata": {},
   "outputs": [
    {
     "name": "stdout",
     "output_type": "stream",
     "text": [
      "Hello, my name is Aisuluu,  I am 40, I am the Member on board of directors at MFK.\n"
     ]
    }
   ],
   "source": [
    "Greet = MyJob()\n",
    "Greet.about_me('Aisuluu', 40, 'Member on board of directors')"
   ]
  },
  {
   "cell_type": "code",
   "execution_count": 69,
   "metadata": {},
   "outputs": [
    {
     "name": "stdout",
     "output_type": "stream",
     "text": [
      "My responsibilities include accept unit reports and my functions include control the activities of the company.\n",
      "Also I retrained for the \"Python developer\" and now I am learning a new direction for myself- Data-science.\n"
     ]
    }
   ],
   "source": [
    "\n",
    "Greet.my_job('accept unit reports', 'control the activities of the company')\n",
    "Greet.retraining('Python developer', 'Data-science')"
   ]
  },
  {
   "cell_type": "code",
   "execution_count": null,
   "metadata": {},
   "outputs": [],
   "source": []
  }
 ],
 "metadata": {
  "kernelspec": {
   "display_name": "Python 3",
   "language": "python",
   "name": "python3"
  },
  "language_info": {
   "codemirror_mode": {
    "name": "ipython",
    "version": 3
   },
   "file_extension": ".py",
   "mimetype": "text/x-python",
   "name": "python",
   "nbconvert_exporter": "python",
   "pygments_lexer": "ipython3",
   "version": "3.7.6"
  }
 },
 "nbformat": 4,
 "nbformat_minor": 4
}
