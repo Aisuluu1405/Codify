{
 "cells": [
  {
   "cell_type": "markdown",
   "metadata": {},
   "source": [
    "**Random choosing**\n",
    "HW\n",
    "raise\n",
    "try/except\n",
    "assert\n",
    "key, value in items()\n",
    "enumerate\n",
    "isinstance\n",
    "\n"
   ]
  },
  {
   "cell_type": "code",
   "execution_count": null,
   "metadata": {},
   "outputs": [],
   "source": [
    "import numpy as np\n",
    "np.random.seed(42)"
   ]
  },
  {
   "cell_type": "code",
   "execution_count": null,
   "metadata": {},
   "outputs": [],
   "source": [
    "import statistics as stat \n",
    "import math \n",
    "\n",
    "print(stat.mean([10, 23, 45, 67]))\n",
    "print(np.mean([10, 23, 45, 67]))"
   ]
  },
  {
   "cell_type": "markdown",
   "metadata": {},
   "source": [
    "**RAISE**"
   ]
  },
  {
   "cell_type": "code",
   "execution_count": null,
   "metadata": {},
   "outputs": [],
   "source": [
    "# функция которая выводит положительные числа\n",
    "def only_pos_number(integer):\n",
    "    if integer <0:\n",
    "        raise ValueError('Only take positive number ')  # выведет ошибку , поднимает ошибку, если в коде происходит то, что нам не нужно\n",
    "    else:\n",
    "        return integer"
   ]
  },
  {
   "cell_type": "code",
   "execution_count": null,
   "metadata": {},
   "outputs": [],
   "source": [
    "only_pos_number(-4)"
   ]
  },
  {
   "cell_type": "code",
   "execution_count": null,
   "metadata": {},
   "outputs": [],
   "source": [
    "some_list = list(np.random.randint(low=5, high=10, size=10))  #генерирует случайные числа от 5 до 9(включительно), выведет 10 чисел"
   ]
  },
  {
   "cell_type": "code",
   "execution_count": null,
   "metadata": {},
   "outputs": [],
   "source": [
    "some_list             "
   ]
  },
  {
   "cell_type": "code",
   "execution_count": null,
   "metadata": {},
   "outputs": [],
   "source": [
    "type(some_list)"
   ]
  },
  {
   "cell_type": "code",
   "execution_count": null,
   "metadata": {},
   "outputs": [],
   "source": [
    "for i in some_list:\n",
    "    positive_int = only_pos_number()"
   ]
  },
  {
   "cell_type": "code",
   "execution_count": null,
   "metadata": {},
   "outputs": [],
   "source": [
    "def filter_list(number, pos_number=True):\n",
    "    if pos_number:\n",
    "        if number > 0:\n",
    "            return number\n",
    "        else:\n",
    "            pass\n",
    "    else:\n",
    "        if number < 0:\n",
    "            return number\n",
    "        else:\n",
    "            pass"
   ]
  },
  {
   "cell_type": "code",
   "execution_count": null,
   "metadata": {},
   "outputs": [],
   "source": [
    "#в аргументы берет лист, \n",
    "def return_list(list_mixed_numbers):\n",
    "    if type(list_mixed_numbers) != list:       # если аргумент не лист, поднимай ошибку\n",
    "        raise TypeError(f'{list_mixed_numbers} is not list object')\n",
    "    temp_list                          #временный лист для хранения\n",
    "    for i in list_mixed_numbers:\n",
    "        num = filter_list(i)            #если аргумент лист 1 вариант возвращает только позитивные числа\n",
    "#         num = filter_list(i, pos_number = False)  #если аргумент лист 2 вариант возвращает только отрицательные  числа\n",
    "        temp_list.append(num)          \n",
    "    return temp_list                   #возвращаем наш ыременный лист с позитивными числами"
   ]
  },
  {
   "cell_type": "code",
   "execution_count": null,
   "metadata": {},
   "outputs": [],
   "source": [
    "sorted_list = return_list(some_list)\n",
    "sorted_list"
   ]
  }
 ],
 "metadata": {
  "kernelspec": {
   "display_name": "Python 3",
   "language": "python",
   "name": "python3"
  },
  "language_info": {
   "codemirror_mode": {
    "name": "ipython",
    "version": 3
   },
   "file_extension": ".py",
   "mimetype": "text/x-python",
   "name": "python",
   "nbconvert_exporter": "python",
   "pygments_lexer": "ipython3",
   "version": "3.7.6"
  }
 },
 "nbformat": 4,
 "nbformat_minor": 4
}
