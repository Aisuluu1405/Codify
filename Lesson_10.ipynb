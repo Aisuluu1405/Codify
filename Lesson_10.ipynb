{
 "cells": [
  {
   "cell_type": "code",
   "execution_count": 15,
   "metadata": {},
   "outputs": [],
   "source": [
    "from time import sleep\n",
    "\n",
    "class DemirBank:\n",
    "    __balance = 0\n",
    "    __id = 0\n",
    "    _personal_info ={}\n",
    "    \n",
    "    def __init__(self, name, surname, amount, id):\n",
    "        self._personal_info['name'] = name\n",
    "        self._personal_info['surname'] = surname\n",
    "        if amount > 0:\n",
    "            self.__balance = amount\n",
    "        elif amount == 0:\n",
    "            raise ValueError('Amount must not be zero!')\n",
    "            self.__id = id\n",
    "    \n",
    "    \n",
    "\n",
    "    def deposit(self, amount):\n",
    "            if amount > 0:\n",
    "                self.__balance += amount\n",
    "                print('Your balance', self.__balance)\n",
    "            \n",
    "    def withdraw(self, amount):\n",
    "        if amount > 0 and amount< self.__balance:\n",
    "            print('Money transfering ...')\n",
    "            self.__balance -= amount\n",
    "            print('Your balance', self.__balance)\n",
    "            \n",
    "        else:\n",
    "             print('Invalid amount')\n",
    "                \n",
    "    def check_balance(self):\n",
    "        print(f'Your balance', self.__balance)\n",
    "        \n",
    "        "
   ]
  },
  {
   "cell_type": "code",
   "execution_count": 16,
   "metadata": {},
   "outputs": [],
   "source": [
    "Saltanat = DemirBank(name = 'Saltanat', surname ='Djusupova', id = 1020, amount=10000)\n",
    "Adil = DemirBank(name = 'Adil', surname='Adenov', id = 5555, amount=5000)\n"
   ]
  },
  {
   "cell_type": "code",
   "execution_count": 17,
   "metadata": {},
   "outputs": [
    {
     "name": "stdout",
     "output_type": "stream",
     "text": [
      "Your balance 15000\n"
     ]
    }
   ],
   "source": [
    "Saltanat.deposit(5000)"
   ]
  },
  {
   "cell_type": "code",
   "execution_count": 18,
   "metadata": {},
   "outputs": [
    {
     "name": "stdout",
     "output_type": "stream",
     "text": [
      "Money transfering ...\n",
      "Your balance 13000\n"
     ]
    }
   ],
   "source": [
    "Saltanat.withdraw(2000)"
   ]
  },
  {
   "cell_type": "code",
   "execution_count": 19,
   "metadata": {},
   "outputs": [
    {
     "name": "stdout",
     "output_type": "stream",
     "text": [
      "Your balance 13000\n"
     ]
    }
   ],
   "source": [
    "Saltanat.check_balance()"
   ]
  },
  {
   "cell_type": "code",
   "execution_count": null,
   "metadata": {},
   "outputs": [],
   "source": []
  }
 ],
 "metadata": {
  "kernelspec": {
   "display_name": "Python 3",
   "language": "python",
   "name": "python3"
  },
  "language_info": {
   "codemirror_mode": {
    "name": "ipython",
    "version": 3
   },
   "file_extension": ".py",
   "mimetype": "text/x-python",
   "name": "python",
   "nbconvert_exporter": "python",
   "pygments_lexer": "ipython3",
   "version": "3.7.6"
  }
 },
 "nbformat": 4,
 "nbformat_minor": 4
}
