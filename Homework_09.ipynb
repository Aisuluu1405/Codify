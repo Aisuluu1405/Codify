{
 "cells": [
  {
   "cell_type": "code",
   "execution_count": 7,
   "metadata": {},
   "outputs": [],
   "source": [
    "class MyJob():\n",
    "    \n",
    "    def about_me(self, name, profession):\n",
    "        self.name = name\n",
    "        self.profession = profession\n",
    "        print(f'Hello, my name is {self.name}, I am the {self.profession} at MFK.')\n",
    "        \n",
    "    def my_job(self, duty, functions):\n",
    "        self.duty = duty\n",
    "        self.functions = functions\n",
    "        print(f'My responsibilities include {self.duty} and my functions include {self.functions}.')    \n",
    "        \n",
    "    def retraining(self, name, interest):\n",
    "        self.name = name\n",
    "        self.interest = interest\n",
    "        print(f'Also I retrained for the \"{self.name}\" and now I am learning a new direction for myself {self.interest}.')\n",
    "    "
   ]
  },
  {
   "cell_type": "code",
   "execution_count": 8,
   "metadata": {},
   "outputs": [
    {
     "name": "stdout",
     "output_type": "stream",
     "text": [
      "Hello, my name is Aisuluu, I am the Member on board of directors at MFK.\n"
     ]
    }
   ],
   "source": [
    "Greet = MyJob()\n",
    "Greet.about_me('Aisuluu', 'Member on board of directors')"
   ]
  },
  {
   "cell_type": "code",
   "execution_count": 9,
   "metadata": {},
   "outputs": [
    {
     "name": "stdout",
     "output_type": "stream",
     "text": [
      "My responsibilities include accept unit reports and my functions include control the activities of the company.\n",
      "Also I retrained for the \"Python developer\" and now I am learning a new direction for myself Data-science.\n"
     ]
    }
   ],
   "source": [
    "Greet.my_job('accept unit reports', 'control the activities of the company')\n",
    "Greet.retraining('Python developer', 'Data-science')"
   ]
  },
  {
   "cell_type": "code",
   "execution_count": null,
   "metadata": {},
   "outputs": [],
   "source": []
  }
 ],
 "metadata": {
  "kernelspec": {
   "display_name": "Python 3",
   "language": "python",
   "name": "python3"
  },
  "language_info": {
   "codemirror_mode": {
    "name": "ipython",
    "version": 3
   },
   "file_extension": ".py",
   "mimetype": "text/x-python",
   "name": "python",
   "nbconvert_exporter": "python",
   "pygments_lexer": "ipython3",
   "version": "3.7.6"
  }
 },
 "nbformat": 4,
 "nbformat_minor": 4
}
