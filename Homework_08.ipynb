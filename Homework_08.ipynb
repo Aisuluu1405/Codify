{
 "cells": [
  {
   "cell_type": "code",
   "execution_count": 14,
   "metadata": {},
   "outputs": [],
   "source": [
    "import numpy as np"
   ]
  },
  {
   "cell_type": "code",
   "execution_count": 15,
   "metadata": {},
   "outputs": [],
   "source": [
    "daily_bud = {'january':list(np.random.randint(low=100, high=3000, size=31)), 'february':list(np.random.randint(low=50, high=2500, size=31)),\n",
    "                          'march':list(np.random.randint(low=150, high=3500, size=31)), 'april':list(np.random.randint(low=200, high=2000, size=31)), 'may':list(np.random.randint(low=100, high=1500, size=31)),\n",
    "                          'june':list(np.random.randint(low=140, high=1500, size=31)), 'july':list(np.random.randint(low=300, high=3000, size=31)), 'august':list(np.random.randint(low=120, high=2200, size=31)),\n",
    "                          'september':list(np.random.randint(low=300, high=4000, size=31)), 'october':list(np.random.randint(low=200, high=2000, size=31)),\n",
    "                          'november':list(np.random.randint(low=170, high=1700, size=31)), 'december':list(np.random.randint(low=130, high=3000, size=31))}"
   ]
  },
  {
   "cell_type": "code",
   "execution_count": 11,
   "metadata": {},
   "outputs": [],
   "source": [
    "def average_budg(dbase):\n",
    "    if not(isinstance(dbase, dict)):\n",
    "        raise TypeError('Not a dictionary!')\n",
    "    new_dict = {}\n",
    "    for key, value in dbase.items():\n",
    "        assert len(value) == 31, 'Wrong days!'\n",
    "        new_dict[key]=[round(np.mean(value),2), min(value), max(value)]\n",
    "    return new_dict                     \n",
    "        "
   ]
  },
  {
   "cell_type": "code",
   "execution_count": 12,
   "metadata": {},
   "outputs": [
    {
     "data": {
      "text/plain": [
       "{'january': [1537.35, 100, 2898],\n",
       " 'february': [1184.39, 160, 2490],\n",
       " 'march': [1856.19, 160, 3460],\n",
       " 'april': [1189.0, 242, 1946],\n",
       " 'may': [837.0, 101, 1488],\n",
       " 'june': [848.65, 154, 1455],\n",
       " 'july': [1594.65, 317, 2907],\n",
       " 'august': [1180.42, 179, 2194],\n",
       " 'september': [2228.16, 596, 3913],\n",
       " 'october': [1052.58, 262, 1983],\n",
       " 'november': [856.58, 190, 1495],\n",
       " 'december': [1583.13, 313, 2948]}"
      ]
     },
     "execution_count": 12,
     "metadata": {},
     "output_type": "execute_result"
    }
   ],
   "source": [
    "ave = average_budg(daily_bud)\n",
    "ave"
   ]
  },
  {
   "cell_type": "code",
   "execution_count": 16,
   "metadata": {},
   "outputs": [],
   "source": [
    "def average_budg(dbase):\n",
    "    if not(isinstance(dbase, dict)):\n",
    "        raise TypeError('Not a dictionary!')\n",
    "    new_dict_usd = {}\n",
    "    new_dict_som = {}\n",
    "    for key, value in dbase.items():\n",
    "        assert len(value) == 31, 'Wrong days!'\n",
    "        new_dict_usd[key]=[round(np.mean(value),2), min(value), max(value)]\n",
    "        new_dict_som[key]=[round(np.mean(value),2)*75, min(value), max(value)]\n",
    "    return new_dict_usd, new_dict_som    "
   ]
  },
  {
   "cell_type": "code",
   "execution_count": 19,
   "metadata": {},
   "outputs": [
    {
     "data": {
      "text/plain": [
       "{'january': [1528.26, 136, 2949],\n",
       " 'february': [1223.35, 91, 2464],\n",
       " 'march': [1931.06, 192, 3433],\n",
       " 'april': [1129.68, 308, 1999],\n",
       " 'may': [742.84, 154, 1458],\n",
       " 'june': [974.55, 337, 1491],\n",
       " 'july': [1731.58, 301, 2759],\n",
       " 'august': [1238.19, 163, 2061],\n",
       " 'september': [2221.81, 541, 3778],\n",
       " 'october': [1194.32, 241, 1998],\n",
       " 'november': [795.0, 186, 1642],\n",
       " 'december': [1629.45, 174, 2960]}"
      ]
     },
     "execution_count": 19,
     "metadata": {},
     "output_type": "execute_result"
    }
   ],
   "source": [
    "ave = average_budg(daily_bud)\n",
    "ave[0] # доллары"
   ]
  },
  {
   "cell_type": "code",
   "execution_count": 18,
   "metadata": {},
   "outputs": [
    {
     "data": {
      "text/plain": [
       "{'january': [114619.5, 136, 2949],\n",
       " 'february': [91751.25, 91, 2464],\n",
       " 'march': [144829.5, 192, 3433],\n",
       " 'april': [84726.0, 308, 1999],\n",
       " 'may': [55713.0, 154, 1458],\n",
       " 'june': [73091.25, 337, 1491],\n",
       " 'july': [129868.5, 301, 2759],\n",
       " 'august': [92864.25, 163, 2061],\n",
       " 'september': [166635.75, 541, 3778],\n",
       " 'october': [89574.0, 241, 1998],\n",
       " 'november': [59625.0, 186, 1642],\n",
       " 'december': [122208.75, 174, 2960]}"
      ]
     },
     "execution_count": 18,
     "metadata": {},
     "output_type": "execute_result"
    }
   ],
   "source": [
    "ave[1]  #сомы"
   ]
  },
  {
   "cell_type": "code",
   "execution_count": null,
   "metadata": {},
   "outputs": [],
   "source": []
  }
 ],
 "metadata": {
  "kernelspec": {
   "display_name": "Python 3",
   "language": "python",
   "name": "python3"
  },
  "language_info": {
   "codemirror_mode": {
    "name": "ipython",
    "version": 3
   },
   "file_extension": ".py",
   "mimetype": "text/x-python",
   "name": "python",
   "nbconvert_exporter": "python",
   "pygments_lexer": "ipython3",
   "version": "3.7.6"
  }
 },
 "nbformat": 4,
 "nbformat_minor": 4
}
