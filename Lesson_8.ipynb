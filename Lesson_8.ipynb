{
 "cells": [
  {
   "cell_type": "markdown",
   "metadata": {},
   "source": [
    "**Random choosing**\n",
    "HW\n",
    "raise\n",
    "try/except\n",
    "assert\n",
    "key, value in items()\n",
    "enumerate\n",
    "isinstance\n",
    "\n"
   ]
  },
  {
   "cell_type": "code",
   "execution_count": 2,
   "metadata": {},
   "outputs": [],
   "source": [
    "import numpy as np\n",
    "np.random.seed(42)\n",
    "\n",
    "#Метод random.seed() задает начальные условия для генератора случайных чисел. Параметры seed - целое положительное число.\n",
    "#random выдает не случайное число, а число которое вычисляется алгоритмом на осное другого числа. random.seed позволяет изменить число, которое передается в random для\n",
    "#генерации случайного числа, а т.к. \"случайные\" числа выдаются одним и тем же алгоритмом, то при одинаковом параметре в random.seed будут и одинаковые \"случайные\" числа."
   ]
  },
  {
   "cell_type": "code",
   "execution_count": 3,
   "metadata": {},
   "outputs": [
    {
     "name": "stdout",
     "output_type": "stream",
     "text": [
      "36.25\n",
      "36.25\n"
     ]
    }
   ],
   "source": [
    "import statistics as stat \n",
    "import math \n",
    "\n",
    "print(stat.mean([10, 23, 45, 67]))\n",
    "print(np.mean([10, 23, 45, 67]))"
   ]
  },
  {
   "cell_type": "code",
   "execution_count": 77,
   "metadata": {},
   "outputs": [],
   "source": [
    "list_of_students = [\n",
    "    'Timur Abdraimov', \n",
    "    'Aijamal', \n",
    "    'Aisuluu Djusupova', \n",
    "    'Iskander', \n",
    "    'Saltanat', \n",
    "    'Aigerim', \n",
    "    'Nuradil', \n",
    "    'Aidai', \n",
    "    'Aigul', \n",
    "    'Aisuluu Karieva',\n",
    "    'Husanboy',\n",
    "    'Asem',\n",
    "    'Nurayim',\n",
    "    'Timur Osmonaliev', \n",
    "    'Kadyrbek',\n",
    "    'Syrgak'\n",
    "]"
   ]
  },
  {
   "cell_type": "code",
   "execution_count": 78,
   "metadata": {},
   "outputs": [
    {
     "name": "stdout",
     "output_type": "stream",
     "text": [
      "Nurayim\n"
     ]
    }
   ],
   "source": [
    "def random_choose(student_list):\n",
    "    return student_list[int(np.random.randint(low=0, high=len(student_list), size=1))]\n",
    "\n",
    "print(random_choose(list_of_students))"
   ]
  },
  {
   "cell_type": "markdown",
   "metadata": {},
   "source": [
    "**RAISE**  #ошибка и дальше код не выполняется"
   ]
  },
  {
   "cell_type": "code",
   "execution_count": 4,
   "metadata": {},
   "outputs": [],
   "source": [
    "# функция которая выводит положительные числа\n",
    "def only_pos_number(integer):\n",
    "    if integer <0:\n",
    "        raise ValueError('Only take positive number ')  # выведет ошибку , поднимает ошибку, если в коде происходит то, что нам не нужно\n",
    "    else:\n",
    "        return integer"
   ]
  },
  {
   "cell_type": "code",
   "execution_count": 13,
   "metadata": {},
   "outputs": [
    {
     "data": {
      "text/plain": [
       "10"
      ]
     },
     "execution_count": 13,
     "metadata": {},
     "output_type": "execute_result"
    }
   ],
   "source": [
    "only_pos_number(10)"
   ]
  },
  {
   "cell_type": "code",
   "execution_count": 14,
   "metadata": {},
   "outputs": [],
   "source": [
    "some_list = list(np.random.randint(low=5, high=10, size=10))  #генерирует случайные числа от 5 до 9(включительно), выведет 10 чисел"
   ]
  },
  {
   "cell_type": "code",
   "execution_count": 15,
   "metadata": {},
   "outputs": [
    {
     "data": {
      "text/plain": [
       "[8, 7, 9, 6, 8, 6, 8, 9, 5, 8]"
      ]
     },
     "execution_count": 15,
     "metadata": {},
     "output_type": "execute_result"
    }
   ],
   "source": [
    "some_list             "
   ]
  },
  {
   "cell_type": "code",
   "execution_count": 16,
   "metadata": {},
   "outputs": [
    {
     "data": {
      "text/plain": [
       "list"
      ]
     },
     "execution_count": 16,
     "metadata": {},
     "output_type": "execute_result"
    }
   ],
   "source": [
    "type(some_list)"
   ]
  },
  {
   "cell_type": "code",
   "execution_count": 18,
   "metadata": {},
   "outputs": [],
   "source": [
    "for i in some_list:\n",
    "    positive_int = only_pos_number(i)"
   ]
  },
  {
   "cell_type": "code",
   "execution_count": 19,
   "metadata": {},
   "outputs": [],
   "source": [
    "def filter_list(number, pos_number=True):\n",
    "    if pos_number:\n",
    "        if number > 0:\n",
    "            return number\n",
    "        else:\n",
    "            pass\n",
    "    else:\n",
    "        if number < 0:\n",
    "            return number\n",
    "        else:\n",
    "            pass"
   ]
  },
  {
   "cell_type": "code",
   "execution_count": 22,
   "metadata": {},
   "outputs": [],
   "source": [
    "#в аргументы берет лист, \n",
    "def return_list(list_mixed_numbers):\n",
    "#     if type(list_mixed_numbers) != list:       # если аргумент не лист, поднимай ошибку\n",
    "    if not(isinstance(list_mixed_numbers, list)):          # если аргумент не лист, поднимай ошибку, лучше использовать этот вариант\n",
    "        raise TypeError(f'{list_mixed_numbers} is not list object')\n",
    "    temp_list = []                        #временный лист для хранения\n",
    "    for i in list_mixed_numbers:\n",
    "        num = filter_list(i)            #если аргумент лист 1 вариант возвращает только позитивные числа\n",
    "#         num = filter_list(i, pos_number = False)  #если аргумент лист 2 вариант возвращает только отрицательные  числа\n",
    "        temp_list.append(num)          \n",
    "    return temp_list                   #возвращаем наш ыременный лист с позитивными числами"
   ]
  },
  {
   "cell_type": "code",
   "execution_count": 23,
   "metadata": {},
   "outputs": [
    {
     "data": {
      "text/plain": [
       "[8, 7, 9, 6, 8, 6, 8, 9, 5, 8]"
      ]
     },
     "execution_count": 23,
     "metadata": {},
     "output_type": "execute_result"
    }
   ],
   "source": [
    "sorted_list = return_list(some_list)\n",
    "sorted_list"
   ]
  },
  {
   "cell_type": "code",
   "execution_count": 24,
   "metadata": {},
   "outputs": [
    {
     "data": {
      "text/plain": [
       "True"
      ]
     },
     "execution_count": 24,
     "metadata": {},
     "output_type": "execute_result"
    }
   ],
   "source": [
    "isinstance(some_list, list)   #проверка является лист листом"
   ]
  },
  {
   "cell_type": "code",
   "execution_count": 25,
   "metadata": {},
   "outputs": [
    {
     "data": {
      "text/plain": [
       "False"
      ]
     },
     "execution_count": 25,
     "metadata": {},
     "output_type": "execute_result"
    }
   ],
   "source": [
    "#type(some_list)!=list                 одно и тоже\n",
    "not(isinstance(some_list, list))   #не является some_list листом"
   ]
  },
  {
   "cell_type": "code",
   "execution_count": 32,
   "metadata": {},
   "outputs": [],
   "source": [
    "#функция берет два списка и поэлементно суммирует\n",
    "#создаю два листа рандомно\n",
    "list_of_integers_one = list(np.random.randint(low=0, high=10, size=10))\n",
    "list_of_integers_two = list(np.random.randint(low=0, high=10, size=9))\n",
    "\n",
    "def sum_every_element(list_one, list_two):\n",
    "    print(list_one)\n",
    "    print(list_two)\n",
    "    temp_list = []   # создаю временный лист\n",
    "    assert len(list_one) == len(list_two),  'Two lists are not equal'      # если длина списков разная, например первый лист длиннее, то выййдет ошибка   \n",
    "    for i in range(0, len(list_one)):\n",
    "        sum_element = list_one[i] + list_two[i]\n",
    "        temp_list.append(sum_element)\n",
    "    return temp_list    \n",
    "    "
   ]
  },
  {
   "cell_type": "code",
   "execution_count": 33,
   "metadata": {},
   "outputs": [
    {
     "name": "stdout",
     "output_type": "stream",
     "text": [
      "[9, 3, 5, 1, 9, 1, 9, 3, 7, 6]\n",
      "[8, 7, 4, 1, 4, 7, 9, 8, 8]\n"
     ]
    },
    {
     "ename": "AssertionError",
     "evalue": "Two lists a re not equal",
     "output_type": "error",
     "traceback": [
      "\u001b[0;31m---------------------------------------------------------------------------\u001b[0m",
      "\u001b[0;31mAssertionError\u001b[0m                            Traceback (most recent call last)",
      "\u001b[0;32m<ipython-input-33-270dd525f859>\u001b[0m in \u001b[0;36m<module>\u001b[0;34m\u001b[0m\n\u001b[0;32m----> 1\u001b[0;31m \u001b[0msum_list\u001b[0m \u001b[0;34m=\u001b[0m \u001b[0msum_every_element\u001b[0m\u001b[0;34m(\u001b[0m\u001b[0mlist_of_integers_one\u001b[0m\u001b[0;34m,\u001b[0m \u001b[0mlist_of_integers_two\u001b[0m\u001b[0;34m)\u001b[0m\u001b[0;34m\u001b[0m\u001b[0;34m\u001b[0m\u001b[0m\n\u001b[0m",
      "\u001b[0;32m<ipython-input-32-5ebe8bc6b015>\u001b[0m in \u001b[0;36msum_every_element\u001b[0;34m(list_one, list_two)\u001b[0m\n\u001b[1;32m      8\u001b[0m     \u001b[0mprint\u001b[0m\u001b[0;34m(\u001b[0m\u001b[0mlist_two\u001b[0m\u001b[0;34m)\u001b[0m\u001b[0;34m\u001b[0m\u001b[0;34m\u001b[0m\u001b[0m\n\u001b[1;32m      9\u001b[0m     \u001b[0mtemp_list\u001b[0m \u001b[0;34m=\u001b[0m \u001b[0;34m[\u001b[0m\u001b[0;34m]\u001b[0m   \u001b[0;31m# создаю временный лист\u001b[0m\u001b[0;34m\u001b[0m\u001b[0;34m\u001b[0m\u001b[0m\n\u001b[0;32m---> 10\u001b[0;31m     \u001b[0;32massert\u001b[0m \u001b[0mlen\u001b[0m\u001b[0;34m(\u001b[0m\u001b[0mlist_one\u001b[0m\u001b[0;34m)\u001b[0m \u001b[0;34m==\u001b[0m \u001b[0mlen\u001b[0m\u001b[0;34m(\u001b[0m\u001b[0mlist_two\u001b[0m\u001b[0;34m)\u001b[0m\u001b[0;34m,\u001b[0m  \u001b[0;34m'Two lists a re not equal'\u001b[0m      \u001b[0;31m# если длина списков разная, например первый лист длиннее, то выййдет ошибка\u001b[0m\u001b[0;34m\u001b[0m\u001b[0;34m\u001b[0m\u001b[0m\n\u001b[0m\u001b[1;32m     11\u001b[0m     \u001b[0;32mfor\u001b[0m \u001b[0mi\u001b[0m \u001b[0;32min\u001b[0m \u001b[0mrange\u001b[0m\u001b[0;34m(\u001b[0m\u001b[0;36m0\u001b[0m\u001b[0;34m,\u001b[0m \u001b[0mlen\u001b[0m\u001b[0;34m(\u001b[0m\u001b[0mlist_one\u001b[0m\u001b[0;34m)\u001b[0m\u001b[0;34m)\u001b[0m\u001b[0;34m:\u001b[0m\u001b[0;34m\u001b[0m\u001b[0;34m\u001b[0m\u001b[0m\n\u001b[1;32m     12\u001b[0m         \u001b[0msum_element\u001b[0m \u001b[0;34m=\u001b[0m \u001b[0mlist_one\u001b[0m\u001b[0;34m[\u001b[0m\u001b[0mi\u001b[0m\u001b[0;34m]\u001b[0m \u001b[0;34m+\u001b[0m \u001b[0mlist_two\u001b[0m\u001b[0;34m[\u001b[0m\u001b[0mi\u001b[0m\u001b[0;34m]\u001b[0m\u001b[0;34m\u001b[0m\u001b[0;34m\u001b[0m\u001b[0m\n",
      "\u001b[0;31mAssertionError\u001b[0m: Two lists a re not equal"
     ]
    }
   ],
   "source": [
    "sum_list = sum_every_element(list_of_integers_one, list_of_integers_two)"
   ]
  },
  {
   "cell_type": "code",
   "execution_count": 31,
   "metadata": {},
   "outputs": [
    {
     "data": {
      "text/plain": [
       "[10, 10, 1, 12, 9, 16, 7, 2, 8, 11]"
      ]
     },
     "execution_count": 31,
     "metadata": {},
     "output_type": "execute_result"
    }
   ],
   "source": [
    "sum_list"
   ]
  },
  {
   "cell_type": "code",
   "execution_count": 35,
   "metadata": {},
   "outputs": [],
   "source": [
    "assert 'bishkek' == 'bishkek' #если все ок, ошибку не выводит "
   ]
  },
  {
   "cell_type": "code",
   "execution_count": 39,
   "metadata": {},
   "outputs": [
    {
     "name": "stdout",
     "output_type": "stream",
     "text": [
      "[7, 14, 1, 46, -3, 43, 3, 33, -4, 45, 3, -7, 12, 36, 0, 53, -4, 9, 36, 37, 7, 0, 41, 23, 37, 26, 42, 23, -2, -11, 19, 2, -7, 42, 1, -9, 30, -3, 24, 26, -7, 34, 11, 50, -11, 13, 21, 22, -8, 49, 1, 29, -12, 20, 54, 15, 3, 45, 38, 23, 3, 23, 51, 29, -3, 42, 4, 45, 23, -15, -13, 46, 47, 9, 40, 17, 22, -10, 42, 28, 29, 16, 29, 45, 31, 5, 20, 3, 4, 41, 2, 31, 33, -2, -1, 15, -15, 38, -13, 0, 41, -4, 0, 8, 12, -8, 20, -8, 42, 44, 34, 12, 25, 48, 11, 47, 1, 17, 13, -3, 30, 19, -10, 53, 31, 9, 50, -6, 40, 14, -11, 17, 49, 2, 33, -5, 10, 47, 43, 11, 33, 17, -15, 5, 39, -10, 53, -11, -13, 37, 7, 37, 21, 1, -15, 35, 29, -12, 46, 49, 16, 18, 23, 10, 18, 38, -13, 34, -4, 49, 38, -11, 41, 1, 31, 7, -2, 50, 35, 22, 48, 22, 34, 14, 35, 47, 36, 22, 14, 35, -11, 13, -12, -6, 40, 1, 1, 53, 18, -10, 37, 50, 27, 7, 39, 0, -8, -12, -12, 40, 9, 51, 51, 11, 16, 34, 45, 35, 3, 5, -11, 26, 45, 6, 5, 54, -15, -11, -4, 30, 18, 33, 29, 11, 10, 31, 40, 47, 32, 45, 10, 20, -15, -8, 36, 31, 40, -2, 12, -14, 10, -2, 43, 40, -9, -13, 7, 2, 22, -1, 48, 12, 23, 41, 1, 28, 9, 1, -3, 9, 52, -6, 51, 2, 18, -8, 24, 26, 25, -10, 36, 10, 48, 43, 40, 43, 54, 17, 37, 6, 5, 54, 54, -12, 46, 46, 8, 39, -7, -13, 15, 24, 20, 8, -10, 50, -12, -10, 35, 46, 41, 50, -8, 10, 35, 29, 28, -11, 54, 10, 52, 3, 4, -4, 31, -15, -2, 48, 22, 21, -5, -13, 17, -10, 34, -6, -11, 7, -6, 28, -14, -3, 24, -14, 49, 47, 1, -7, -1, 8, 22, 19, 33, 53, 46, 44, 34, -7, 18, 19, -15, 24, 48, 6, 44]\n"
     ]
    }
   ],
   "source": [
    "#функция принимает температуру и выдает среднее количесиво\n",
    "collected_temp_list = list(np.random.randint(low=-15, high=55, size=365))\n",
    "print(collected_temp_list)\n",
    "\n",
    "def calculate(temp_list):\n",
    "    if not(isinstance(temp_list, list)):                  #чтобы выловить ошибку по типу ошибки, если не список \n",
    "        raise TypeError('Not a list')\n",
    "    assert len(temp_list) != 0, 'The temp list is empty'               #если список пустой, assert выврдит ошибки с элемеентами , есть или нет \n",
    "    return round(sum(temp_list)/len(temp_list),2)\n",
    "\n"
   ]
  },
  {
   "cell_type": "code",
   "execution_count": 41,
   "metadata": {},
   "outputs": [
    {
     "data": {
      "text/plain": [
       "18.47"
      ]
     },
     "execution_count": 41,
     "metadata": {},
     "output_type": "execute_result"
    }
   ],
   "source": [
    "calculate(collected_temp_list)"
   ]
  },
  {
   "cell_type": "code",
   "execution_count": 44,
   "metadata": {},
   "outputs": [
    {
     "ename": "AssertionError",
     "evalue": "The temp list is empty",
     "output_type": "error",
     "traceback": [
      "\u001b[0;31m---------------------------------------------------------------------------\u001b[0m",
      "\u001b[0;31mAssertionError\u001b[0m                            Traceback (most recent call last)",
      "\u001b[0;32m<ipython-input-44-a269001663e0>\u001b[0m in \u001b[0;36m<module>\u001b[0;34m\u001b[0m\n\u001b[1;32m      1\u001b[0m \u001b[0;31m# calculate('ggghhhhh')  #ошибка\u001b[0m\u001b[0;34m\u001b[0m\u001b[0;34m\u001b[0m\u001b[0;34m\u001b[0m\u001b[0m\n\u001b[0;32m----> 2\u001b[0;31m \u001b[0mcalculate\u001b[0m\u001b[0;34m(\u001b[0m\u001b[0;34m[\u001b[0m\u001b[0;34m]\u001b[0m\u001b[0;34m)\u001b[0m\u001b[0;34m\u001b[0m\u001b[0;34m\u001b[0m\u001b[0m\n\u001b[0m",
      "\u001b[0;32m<ipython-input-39-0fd1595397d9>\u001b[0m in \u001b[0;36mcalculate\u001b[0;34m(temp_list)\u001b[0m\n\u001b[1;32m      4\u001b[0m \u001b[0;34m\u001b[0m\u001b[0m\n\u001b[1;32m      5\u001b[0m \u001b[0;32mdef\u001b[0m \u001b[0mcalculate\u001b[0m\u001b[0;34m(\u001b[0m\u001b[0mtemp_list\u001b[0m\u001b[0;34m)\u001b[0m\u001b[0;34m:\u001b[0m\u001b[0;34m\u001b[0m\u001b[0;34m\u001b[0m\u001b[0m\n\u001b[0;32m----> 6\u001b[0;31m     \u001b[0;32massert\u001b[0m \u001b[0mlen\u001b[0m\u001b[0;34m(\u001b[0m\u001b[0mtemp_list\u001b[0m\u001b[0;34m)\u001b[0m \u001b[0;34m!=\u001b[0m \u001b[0;36m0\u001b[0m\u001b[0;34m,\u001b[0m \u001b[0;34m'The temp list is empty'\u001b[0m               \u001b[0;31m#если список пустой, чтобы вывел ошибку\u001b[0m\u001b[0;34m\u001b[0m\u001b[0;34m\u001b[0m\u001b[0m\n\u001b[0m\u001b[1;32m      7\u001b[0m     \u001b[0;32mreturn\u001b[0m \u001b[0mround\u001b[0m\u001b[0;34m(\u001b[0m\u001b[0msum\u001b[0m\u001b[0;34m(\u001b[0m\u001b[0mtemp_list\u001b[0m\u001b[0;34m)\u001b[0m\u001b[0;34m/\u001b[0m\u001b[0mlen\u001b[0m\u001b[0;34m(\u001b[0m\u001b[0mtemp_list\u001b[0m\u001b[0;34m)\u001b[0m\u001b[0;34m,\u001b[0m\u001b[0;36m2\u001b[0m\u001b[0;34m)\u001b[0m\u001b[0;34m\u001b[0m\u001b[0;34m\u001b[0m\u001b[0m\n\u001b[1;32m      8\u001b[0m \u001b[0;34m\u001b[0m\u001b[0m\n",
      "\u001b[0;31mAssertionError\u001b[0m: The temp list is empty"
     ]
    }
   ],
   "source": [
    "# calculate('ggghhhhh')  #ошибка\n",
    "calculate([])           #assert вывел оштбку что список пустой"
   ]
  },
  {
   "cell_type": "code",
   "execution_count": 79,
   "metadata": {},
   "outputs": [],
   "source": [
    "student_database = {\n",
    "    'students':['Jack', 'Britanny', 'Jennifer', 'Danny', 'Megan', 'Elly', 'Alexandr', 'Alan', 'Jhon', 'Meggy'],\n",
    "    'score':list(np.random.randint(low=15, high=100, size=10))\n",
    "} #для 10 студенитов быаллы от 15 до 100"
   ]
  },
  {
   "cell_type": "code",
   "execution_count": 80,
   "metadata": {},
   "outputs": [
    {
     "name": "stdout",
     "output_type": "stream",
     "text": [
      "Jack\n",
      "Britanny\n",
      "Jennifer\n",
      "Danny\n",
      "Megan\n",
      "Elly\n",
      "Alexandr\n",
      "Alan\n",
      "Jhon\n",
      "Meggy\n"
     ]
    }
   ],
   "source": [
    "for i  in student_database['students']:   #выведет значения для ключа students\n",
    "    print(i)"
   ]
  },
  {
   "cell_type": "code",
   "execution_count": 82,
   "metadata": {},
   "outputs": [
    {
     "name": "stdout",
     "output_type": "stream",
     "text": [
      "key: students value: ['Jack', 'Britanny', 'Jennifer', 'Danny', 'Megan', 'Elly', 'Alexandr', 'Alan', 'Jhon', 'Meggy']\n",
      "key: score value: [51, 89, 84, 32, 99, 56, 55, 52, 48, 31]\n"
     ]
    }
   ],
   "source": [
    "for key, value in student_database.items():\n",
    "    print(f'key: {key} value: {value}')"
   ]
  },
  {
   "cell_type": "code",
   "execution_count": 52,
   "metadata": {},
   "outputs": [
    {
     "data": {
      "text/plain": [
       "dict_items([('ex_1', 10), ('ex_2', 20), ('ex_3', 30)])"
      ]
     },
     "execution_count": 52,
     "metadata": {},
     "output_type": "execute_result"
    }
   ],
   "source": [
    "example_dict = {\n",
    "    'ex_1':10,\n",
    "    'ex_2':20,\n",
    "    'ex_3':30\n",
    "}\n",
    "example_dict.items()"
   ]
  },
  {
   "cell_type": "code",
   "execution_count": 54,
   "metadata": {},
   "outputs": [
    {
     "name": "stdout",
     "output_type": "stream",
     "text": [
      "key: ex_1 value: 10\n",
      "key: ex_2 value: 20\n",
      "key: ex_3 value: 30\n"
     ]
    }
   ],
   "source": [
    "for key, value in example_dict.items():\n",
    "    print(f'key: {key} value: {value}')"
   ]
  },
  {
   "cell_type": "code",
   "execution_count": 59,
   "metadata": {},
   "outputs": [
    {
     "name": "stdout",
     "output_type": "stream",
     "text": [
      "index:0, element 6945\n",
      "index:1, element 5383\n",
      "index:2, element 5532\n",
      "index:3, element 2461\n",
      "index:4, element 3593\n",
      "index:5, element 6097\n",
      "index:6, element 1246\n",
      "index:7, element 5226\n",
      "index:8, element 6316\n",
      "index:9, element 3635\n",
      "index:10, element 4450\n",
      "index:11, element 5195\n",
      "index:12, element 5173\n",
      "index:13, element 1781\n",
      "index:14, element 2201\n",
      "index:15, element 6605\n",
      "index:16, element 3751\n",
      "index:17, element 4364\n",
      "index:18, element 6530\n",
      "index:19, element 354\n",
      "index:20, element 2123\n",
      "index:21, element 5597\n",
      "index:22, element 3762\n",
      "index:23, element 3379\n",
      "index:24, element 1132\n",
      "index:25, element 4708\n",
      "index:26, element 3106\n",
      "index:27, element 6254\n",
      "index:28, element 6403\n",
      "index:29, element 6402\n",
      "index:30, element 2790\n",
      "index:31, element 6186\n",
      "index:32, element 627\n",
      "index:33, element 3610\n",
      "index:34, element 3600\n",
      "index:35, element 3975\n",
      "index:36, element 3354\n",
      "index:37, element 5683\n",
      "index:38, element 2443\n",
      "index:39, element 5507\n",
      "index:40, element 1611\n",
      "index:41, element 3491\n",
      "index:42, element 2838\n",
      "index:43, element 4283\n",
      "index:44, element 4847\n",
      "index:45, element 5919\n",
      "index:46, element 464\n",
      "index:47, element 4577\n",
      "index:48, element 6912\n",
      "index:49, element 5305\n",
      "index:50, element 1122\n",
      "index:51, element 1243\n",
      "index:52, element 6397\n",
      "index:53, element 6450\n",
      "index:54, element 4725\n",
      "index:55, element 1074\n",
      "index:56, element 2498\n",
      "index:57, element 3456\n",
      "index:58, element 4542\n",
      "index:59, element 3995\n",
      "index:60, element 3752\n",
      "index:61, element 1214\n",
      "index:62, element 5967\n",
      "index:63, element 1608\n",
      "index:64, element 4477\n",
      "index:65, element 813\n",
      "index:66, element 2220\n",
      "index:67, element 6335\n",
      "index:68, element 3894\n",
      "index:69, element 5141\n",
      "index:70, element 1709\n",
      "index:71, element 5102\n",
      "index:72, element 4866\n",
      "index:73, element 3490\n",
      "index:74, element 4791\n",
      "index:75, element 1855\n",
      "index:76, element 6704\n",
      "index:77, element 1104\n",
      "index:78, element 5329\n",
      "index:79, element 1579\n",
      "index:80, element 6153\n",
      "index:81, element 5300\n",
      "index:82, element 5472\n",
      "index:83, element 6286\n",
      "index:84, element 5919\n",
      "index:85, element 3877\n",
      "index:86, element 3201\n",
      "index:87, element 1687\n",
      "index:88, element 5699\n",
      "index:89, element 4988\n",
      "index:90, element 3061\n",
      "index:91, element 2979\n",
      "index:92, element 2406\n",
      "index:93, element 4523\n",
      "index:94, element 5131\n",
      "index:95, element 3068\n",
      "index:96, element 4253\n",
      "index:97, element 3486\n",
      "index:98, element 3580\n",
      "index:99, element 2873\n"
     ]
    }
   ],
   "source": [
    "salaries = list(np.random.randint(low=300, high=7000, size=100))\n",
    "\n",
    "#index range 0 up to 99, element is each element of list\n",
    "for index, element in enumerate(salaries):           #enumerate может одновременно брать индекс и элемент листа\n",
    "    print(f'index:{index}, element {element}')\n",
    "    \n"
   ]
  },
  {
   "cell_type": "code",
   "execution_count": 88,
   "metadata": {},
   "outputs": [],
   "source": [
    "student_database = {\n",
    "    'students':['Jack', 'Britanny', 'Jennifer', 'Danny', 'Megan', 'Elly', 'Alexandr', 'Alan', 'Jhon', 'Meggy'],\n",
    "    'score':list(np.random.randint(low=15, high=100, size=10)),\n",
    "    'index':list(np.arange(0, 10))               #генерить как обычный range от 0 до 10\n",
    "}"
   ]
  },
  {
   "cell_type": "code",
   "execution_count": 75,
   "metadata": {},
   "outputs": [],
   "source": [
    "def check_exam(dbase, exam_passed=True):             #вернет только прошедних экзамен студентов\n",
    "    if not(isinstance(dbase, dict)):                    #кроме словаря нисего не должно попасть\n",
    "        raise TypeError('Not database provided')\n",
    "    passing_score = 70\n",
    "    passed_students = []\n",
    "    not_passed_students = []\n",
    "    \n",
    "    for index, score in enumerate(dbase['score']):\n",
    "        if score > passing_score:\n",
    "            print(f\"Student with {dbase['students'][index]} passed with score {score}\")\n",
    "            passed_students.append(dbase['students'][index])\n",
    "        else:\n",
    "            not_passed_students.append(dbase['students'][index])\n",
    "    if exam_passed:\n",
    "        return passed_students\n",
    "    else:\n",
    "        return not_passed_students\n",
    "        "
   ]
  },
  {
   "cell_type": "code",
   "execution_count": 76,
   "metadata": {},
   "outputs": [
    {
     "name": "stdout",
     "output_type": "stream",
     "text": [
      "Student with Jennifer passed with score 80\n",
      "Student with Megan passed with score 87\n",
      "Student with Jhon passed with score 72\n"
     ]
    },
    {
     "data": {
      "text/plain": [
       "['Jennifer', 'Megan', 'Jhon']"
      ]
     },
     "execution_count": 76,
     "metadata": {},
     "output_type": "execute_result"
    }
   ],
   "source": [
    "check_exam(student_database, exam_passed=True)"
   ]
  },
  {
   "cell_type": "code",
   "execution_count": 95,
   "metadata": {},
   "outputs": [
    {
     "name": "stdout",
     "output_type": "stream",
     "text": [
      "students\n",
      "score\n",
      "index\n"
     ]
    }
   ],
   "source": [
    "# student_database['score']\n",
    "for k in student_database:\n",
    "    print(k)\n"
   ]
  },
  {
   "cell_type": "code",
   "execution_count": 99,
   "metadata": {},
   "outputs": [],
   "source": [
    "daily_bud = {'january':list(np.random.randint(low=1000, high=30000, size=31)), 'febrary':list(np.random.randint(low=1000, high=25000, size=31)),\n",
    "                          'march':list(np.random.randint(low=1000, high=30000, size=31)), 'april':list(np.random.randint(low=1000, high=30000, size=31)), 'may':list(np.random.randint(low=1000, high=30000, size=31)),\n",
    "                          'june':list(np.random.randint(low=1000, high=30000, size=31)), 'july':list(np.random.randint(low=1000, high=30000, size=31)), 'audust':list(np.random.randint(low=1000, high=30000, size=31)),\n",
    "                          'september':list(np.random.randint(low=1000, high=30000, size=31)), 'october':list(np.random.randint(low=1000, high=30000, size=31)),\n",
    "                          'november':list(np.random.randint(low=1000, high=30000, size=31)), 'december':list(np.random.randint(low=1000, high=30000, size=31))}"
   ]
  },
  {
   "cell_type": "code",
   "execution_count": 102,
   "metadata": {},
   "outputs": [],
   "source": [
    "def average_budg(dbase):\n",
    "#     if not(isinstance(dbase, dict)):\n",
    "#         raise TypeError('Not a dictionary!')\n",
    "#         new_dict = {}\n",
    "    for key, value in daily_bud.items():\n",
    "        print(f'key: {key} value: {value}')"
   ]
  },
  {
   "cell_type": "code",
   "execution_count": 103,
   "metadata": {},
   "outputs": [
    {
     "name": "stdout",
     "output_type": "stream",
     "text": [
      "key: january value: [8561, 3719, 23890, 12700, 4741, 10766, 4998, 27705, 19787, 28905, 17077, 26164, 27588, 27123, 1294, 11177, 22727, 28693, 10882, 2136, 3064, 8009, 13987, 5543, 2007, 6445, 11706, 15749, 12718, 22736, 10439]\n",
      "key: febrary value: [14281, 2435, 1571, 3382, 6084, 17661, 14507, 8059, 19271, 13771, 18649, 8491, 15527, 18424, 15859, 9073, 10077, 20136, 21953, 12383, 17378, 23737, 3353, 24821, 5799, 18070, 22195, 12939, 22730, 22427, 3428]\n",
      "key: march value: [28083, 22510, 25604, 26482, 12296, 8813, 15414, 29575, 28570, 28082, 12801, 12745, 27029, 14025, 4356, 26091, 15288, 24650, 7540, 17422, 4342, 10078, 3844, 11396, 18482, 24411, 19207, 28777, 14998, 14261, 20539]\n",
      "key: april value: [4093, 12722, 23042, 21162, 20280, 12645, 16083, 29087, 1988, 21500, 7446, 17335, 29602, 21563, 17133, 2682, 6626, 8424, 13857, 13155, 18317, 20982, 12425, 2980, 16522, 27431, 20440, 9984, 18175, 16883, 27385]\n",
      "key: may value: [6390, 24019, 19639, 20994, 2607, 22563, 7573, 18368, 6776, 4676, 4380, 9711, 9782, 18434, 14997, 21017, 7342, 18343, 7059, 9884, 6655, 13091, 21857, 20330, 16251, 25109, 1526, 4224, 16069, 27829, 12536]\n",
      "key: june value: [29541, 14547, 19259, 2763, 9712, 6797, 10208, 24483, 6109, 24028, 17500, 3433, 22847, 17967, 25970, 21172, 28344, 5167, 29436, 25849, 27589, 18773, 29142, 9357, 27143, 7154, 22804, 9920, 19427, 21581, 20880]\n",
      "key: july value: [18162, 1213, 4762, 14399, 10768, 11640, 7731, 28512, 20501, 6791, 16822, 9783, 14621, 17019, 3720, 9905, 10127, 23431, 29913, 25416, 17385, 7368, 28424, 15056, 13236, 19333, 24116, 15451, 25217, 18301, 20558]\n",
      "key: audust value: [11433, 16525, 24398, 1089, 19093, 11361, 17369, 29814, 4041, 1105, 10078, 26003, 19279, 7090, 25892, 7082, 18018, 2925, 19440, 7917, 20528, 27846, 27015, 1552, 26291, 22767, 4911, 27289, 4389, 26683, 14629]\n",
      "key: september value: [29782, 25826, 3430, 27630, 1458, 14395, 1207, 1899, 12653, 28961, 17405, 9601, 1894, 1514, 24678, 22288, 25251, 5109, 14258, 16313, 16349, 8179, 11326, 12787, 28532, 2560, 14612, 18650, 27745, 21022, 26325]\n",
      "key: october value: [20811, 5780, 19311, 29380, 12894, 3356, 5790, 27911, 17690, 25363, 21049, 11181, 8057, 17082, 1661, 5644, 16711, 25887, 3920, 26658, 17002, 28547, 15025, 9946, 29706, 13732, 7236, 17309, 23462, 14518, 1352]\n",
      "key: november value: [26478, 29464, 8005, 15036, 17542, 27553, 1956, 3071, 9595, 16140, 13803, 28355, 26963, 4453, 7675, 1955, 7295, 16921, 19096, 16282, 5703, 7563, 26849, 23015, 13003, 11817, 27958, 27017, 12171, 27373, 13582]\n",
      "key: december value: [13201, 18778, 13473, 10461, 22116, 21098, 16596, 1529, 29199, 20342, 25288, 28490, 20975, 27723, 24279, 13765, 14910, 12561, 10131, 1525, 23861, 17385, 1374, 27916, 13197, 28628, 5648, 3365, 18909, 2646, 1013]\n"
     ]
    }
   ],
   "source": [
    "ave = average_budg(daily_bud)\n",
    "ave"
   ]
  },
  {
   "cell_type": "code",
   "execution_count": null,
   "metadata": {},
   "outputs": [],
   "source": []
  }
 ],
 "metadata": {
  "kernelspec": {
   "display_name": "Python 3",
   "language": "python",
   "name": "python3"
  },
  "language_info": {
   "codemirror_mode": {
    "name": "ipython",
    "version": 3
   },
   "file_extension": ".py",
   "mimetype": "text/x-python",
   "name": "python",
   "nbconvert_exporter": "python",
   "pygments_lexer": "ipython3",
   "version": "3.7.6"
  }
 },
 "nbformat": 4,
 "nbformat_minor": 4
}
